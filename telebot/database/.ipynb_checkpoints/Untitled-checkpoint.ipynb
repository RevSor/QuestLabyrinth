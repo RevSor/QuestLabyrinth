{
 "cells": [
  {
   "cell_type": "code",
   "execution_count": 29,
   "metadata": {},
   "outputs": [],
   "source": [
    "directions = ('north', 'east', 'south', 'west')\n",
    "user_action = ('Вперед', 'Направо', 'Назад', 'Налево')\n",
    "actions = ('Вверх', 'Направо', 'Вниз', 'Налево')"
   ]
  },
  {
   "cell_type": "code",
   "execution_count": 23,
   "metadata": {},
   "outputs": [
    {
     "name": "stdout",
     "output_type": "stream",
     "text": [
      "Вперед\n",
      "Вниз\n",
      "=====\n",
      "Направо\n",
      "Налево\n",
      "=====\n",
      "Назад\n",
      "Вверх\n",
      "=====\n",
      "Налево\n",
      "Направо\n",
      "=====\n"
     ]
    }
   ],
   "source": [
    "current_direction = 'south'\n",
    "for msg_text in user_action:\n",
    "    increment_for_direction_action = directions.index(current_direction)\n",
    "    action = actions[(user_action.index(msg_text)+increment_for_direction_action)%4]\n",
    "    print(msg_text)\n",
    "    print(action)\n",
    "    print(\"=====\")"
   ]
  },
  {
   "cell_type": "code",
   "execution_count": 33,
   "metadata": {},
   "outputs": [
    {
     "name": "stdout",
     "output_type": "stream",
     "text": [
      "Вверх\n",
      "Налево\n",
      "=====\n",
      "Направо\n",
      "Вперед\n",
      "=====\n",
      "Вниз\n",
      "Направо\n",
      "=====\n",
      "Налево\n",
      "Назад\n",
      "=====\n"
     ]
    }
   ],
   "source": [
    "current_direction = 'east'\n",
    "\n",
    "for possible_action in actions:\n",
    "    increment_for_direction_action = directions.index(current_direction)\n",
    "    action = user_action[(actions.index(possible_action)-increment_for_direction_action)%4]\n",
    "    print(possible_action)\n",
    "    print(action)\n",
    "    print(\"=====\")"
   ]
  },
  {
   "cell_type": "code",
   "execution_count": 37,
   "metadata": {},
   "outputs": [
    {
     "name": "stdout",
     "output_type": "stream",
     "text": [
      "Вперед\n",
      "south\n",
      "=====\n",
      "Направо\n",
      "west\n",
      "=====\n",
      "Назад\n",
      "north\n",
      "=====\n",
      "Налево\n",
      "east\n",
      "=====\n"
     ]
    }
   ],
   "source": [
    "current_direction = 'south'\n",
    "\n",
    "for current_action in user_action:\n",
    "    increment_for_direction_action = user_action.index(current_action)\n",
    "    direction = directions[(directions.index(current_direction)+increment_for_direction_action)%4]\n",
    "    print(current_action)\n",
    "    print(direction)\n",
    "    print(\"=====\")"
   ]
  },
  {
   "cell_type": "code",
   "execution_count": null,
   "metadata": {},
   "outputs": [],
   "source": []
  }
 ],
 "metadata": {
  "kernelspec": {
   "display_name": "Python 3",
   "language": "python",
   "name": "python3"
  },
  "language_info": {
   "codemirror_mode": {
    "name": "ipython",
    "version": 3
   },
   "file_extension": ".py",
   "mimetype": "text/x-python",
   "name": "python",
   "nbconvert_exporter": "python",
   "pygments_lexer": "ipython3",
   "version": "3.7.3"
  }
 },
 "nbformat": 4,
 "nbformat_minor": 2
}
